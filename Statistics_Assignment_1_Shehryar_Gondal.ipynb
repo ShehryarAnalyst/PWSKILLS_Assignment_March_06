{
 "cells": [
  {
   "cell_type": "markdown",
   "id": "35622c3c",
   "metadata": {},
   "source": [
    "## Assignments Questions"
   ]
  },
  {
   "cell_type": "markdown",
   "id": "beef7b03",
   "metadata": {},
   "source": [
    "__Q1. What is Statistics?__\n",
    "\n",
    "__Ans)__ Statistics is the science of collecting,organizing and analyzing data.It involves the use of mathematical and statistical methods to extract meaningful insights from data, which can be used to inform decisions, make predictions, and test hypotheses.In essence, statistics helps us make sense of the data that we collect and provides a way to understand the world around us in a more quantitative and objective way."
   ]
  },
  {
   "cell_type": "markdown",
   "id": "be80b0d8",
   "metadata": {},
   "source": [
    "__Q2. Define the different types of statistics and give an example of when each type might be used.?__\n",
    "\n",
    "__Ans)__ There are two main types of statistics: \n",
    "\n",
    "1. Descriptive statistics\n",
    "2. Inferential statistics.\n",
    "\n",
    "* __Descriptive statistics:__ Descriptive statistics involves the methods used to summarize and describe the main features of a data set. This includes measures such as the mean, median, mode, standard deviation, and range. Descriptive statistics can be used to provide an overview of a data set and identify patterns or trends within it. For example, descriptive statistics can be used to summarize the average income, age, or education level of a particular population.\n",
    "\n",
    "* __Inferential statistics:__ Inferential statistics involves using statistical methods to make inferences about a population based on a sample of data. This includes methods such as hypothesis testing, confidence intervals, and regression analysis. Inferential statistics can be used to test hypotheses, make predictions, and estimate parameters of interest for a population based on a sample. For example, inferential statistics can be used to determine whether a new medication is effective in treating a particular disease, or to estimate the proportion of a population that supports a particular political candidate.\n",
    "\n",
    "__In summary, descriptive statistics is used to summarize and describe data while inferential statistics is used to draw conclusions or make predictions about a larger population based on a sample of data.__"
   ]
  },
  {
   "cell_type": "markdown",
   "id": "77844373",
   "metadata": {},
   "source": [
    "__Q3. What are the different types of data and how do they differ from each other? Provide an example of\n",
    "each type of data ?__\n",
    "\n",
    "__Ans)__ There are four main types of data: nominal, ordinal, interval, and ratio.\n",
    "\n",
    "* __Nominal data:__ Nominal data is data that consists of categories or labels with no inherent order or ranking. Examples of nominal data include gender (male/female), color (red/green/blue), or favorite fruit (apple/banana/orange).\n",
    "\n",
    "* __Ordinal data:__ Ordinal data is data that has a natural order or ranking. However, the differences between the values cannot be determined. Examples of ordinal data include rank order in a competition (1st, 2nd, 3rd place), star ratings (1 star, 2 stars, 3 stars, etc.), or level of education (elementary school, high school, college, etc.).\n",
    "\n",
    "* __Interval data:__ Interval data is data that has a natural order or ranking, and the differences between the values are meaningful. However, there is no true zero point. Examples of interval data include temperature in Celsius or Fahrenheit (0 degrees is not an absence of temperature), or time of day (12:00 PM is not an absence of time).\n",
    "\n",
    "* __Ratio data:__ Ratio data is data that has a natural order or ranking, the differences between the values are meaningful, and there is a true zero point. Examples of ratio data include height, weight, age, or income.\n",
    "\n",
    "__In summary, nominal data consists of categories with no order, ordinal data has a natural order but no true numerical difference, interval data has a natural order and meaningful numerical differences, and ratio data has a natural order, meaningful numerical differences, and a true zero point.__"
   ]
  },
  {
   "cell_type": "markdown",
   "id": "715ca10f",
   "metadata": {},
   "source": [
    "__Q4. Categorise the following datasets with respect to quantitative and qualitative data types:\n",
    "(i) Grading in exam: A+, A, B+, B, C+, C, D, E\n",
    "(ii) Colour of mangoes: yellow, green, orange, red\n",
    "(iii) Height data of a class: [178.9, 179, 179.5, 176, 177.2, 178.3, 175.8,...]\n",
    "(iv) Number of mangoes exported by a farm: [500, 600, 478, 672, ...]?__\n",
    "\n",
    "__Ans)__ \n",
    "\n",
    "1. Grading in exam: Qualitative (ordinal)\n",
    "2. Colour of mangoes: Qualitative (nominal)\n",
    "3.  Height data of a class: Quantitative (continuous, interval)\n",
    "4. Number of mangoes exported by a farm: Quantitative (discrete, ratio)"
   ]
  },
  {
   "cell_type": "markdown",
   "id": "4d1e31f6",
   "metadata": {},
   "source": [
    "__Q5. Explain the concept of levels of measurement and give an example of a variable for each level.?__\n",
    "\n",
    "__Ans)__ Levels of measurement refer to the different ways in which data can be measured and classified. There are four commonly recognized levels of measurement: nominal, ordinal, interval, and ratio.\n",
    "\n",
    "* __Nominal level of measurement:__ This is the lowest level of measurement and involves the categorization of data into distinct categories with no inherent order or ranking. Examples of nominal level variables include gender (male/female), race (Caucasian, African American, Asian, etc.), or country of birth.\n",
    "\n",
    "* __Ordinal level of measurement:__ This level involves the ranking of data in a specific order, but with no ability to measure the differences between the data points. Examples of ordinal level variables include letter grades (A, B, C, etc.), socioeconomic status (low, middle, high), or star ratings (1 star, 2 stars, 3 stars, etc.).\n",
    "\n",
    "* __Interval level of measurement:__ This level involves the measurement of data with a specific order, and where the differences between the data points are meaningful, but there is no true zero point. Examples of interval level variables include temperature in Celsius or Fahrenheit (0 degrees is not an absence of temperature), or time of day (12:00 PM is not an absence of time).\n",
    "\n",
    "* __Ratio level of measurement:__ This is the highest level of measurement and involves the measurement of data with a specific order, meaningful differences between data points, and a true zero point. Examples of ratio level variables include height, weight, age, or income.\n",
    "\n",
    "__In summary, nominal variables involve categorization with no order, ordinal variables involve ranking with no measurable differences, interval variables involve ranking with measurable differences but no true zero point, and ratio variables involve ranking with measurable differences and a true zero point.__"
   ]
  },
  {
   "cell_type": "markdown",
   "id": "d4e5469d",
   "metadata": {},
   "source": [
    "__Q6. Why is it important to understand the level of measurement when analyzing data? Provide an\n",
    "example to illustrate your answer.?__\n",
    "\n",
    "__Ans)__ Understanding the level of measurement is important when analyzing data because it affects the types of statistical analyses that can be performed and the appropriate methods of summarizing and interpreting the data.\n",
    "\n",
    "__For example,__ if a researcher is analyzing data on the favorite colors of individuals in a survey, and the data is at the nominal level of measurement, then it would not be appropriate to calculate the mean or median, as these are measures of central tendency that require numerical values. Instead, the appropriate measure of central tendency would be the mode, which is the most frequently occurring value. However, if the data were at the ratio level of measurement, such as income, then calculating the mean or median would be appropriate and informative.\n",
    "\n",
    "Similarly, the appropriate methods of statistical analysis may vary depending on the level of measurement. For instance, while chi-square test is suitable for nominal level data, ANOVA is suitable for interval or ratio level data.\n",
    "\n",
    "Therefore, understanding the level of measurement is essential to ensure that the appropriate statistical techniques are used to analyze the data and draw valid conclusions."
   ]
  },
  {
   "cell_type": "markdown",
   "id": "072be4a0",
   "metadata": {},
   "source": [
    "__Q7. How nominal data type is different from ordinal data type.?__\n",
    "\n",
    "__Ans)__ Nominal and ordinal data types are both types of categorical data, but they differ in their level of measurement and the amount of information conveyed.\n",
    "\n",
    "* __Nominal data__ is the lowest level of measurement and refers to data that can be categorized into mutually exclusive groups or categories with no inherent order or ranking. For example, gender (male/female), political affiliation (Democrat/Republican/Independent), or hair color (blonde/brunette/redhead) are all examples of nominal data. Nominal data can be summarized using frequencies and percentages, and statistical analysis can be performed using measures such as chi-square test.\n",
    "\n",
    "* __Ordinal data,__ on the other hand, involves the ranking of data in a specific order or hierarchy, but with no measurable differences between the data points. For example, education level (elementary school, high school, bachelor's degree, master's degree, PhD), level of agreement (strongly agree, agree, neutral, disagree, strongly disagree), or customer satisfaction ratings (very satisfied, satisfied, neutral, dissatisfied, very dissatisfied) are examples of ordinal data. Ordinal data can be summarized using measures of central tendency, such as the median, and statistical analysis can be performed using measures such as Mann-Whitney U test or Kruskal-Wallis test.\n",
    "\n",
    "__In summary, nominal data involves categorization into distinct groups with no inherent order, while ordinal data involves categorization into distinct groups with a specific order or ranking, but with no measurable differences between the data points__"
   ]
  },
  {
   "cell_type": "markdown",
   "id": "98b4d70e",
   "metadata": {},
   "source": [
    "__Q8. Which type of plot can be used to display data in terms of range?__\n",
    "\n",
    "__Ans)__ A __box plot or a box and whisker plot is a commonly used plot to display data in terms of range.__ A box plot provides a graphical representation of the five-number summary of a dataset, including the minimum value, first quartile (Q1), median (second quartile or Q2), third quartile (Q3), and maximum value. The box in the plot represents the middle 50% of the data, with the bottom of the box representing the first quartile and the top of the box representing the third quartile. The whiskers extending from the box indicate the range of the data, with the minimum value represented by the lower whisker and the maximum value represented by the upper whisker.\n",
    "\n",
    "Box plots are useful for comparing the range and distribution of data between different groups or categories, identifying outliers and skewness, and detecting differences in central tendency and variability. They are particularly useful when dealing with large datasets or datasets with many variables, as they provide a concise and informative visual summary of the data."
   ]
  },
  {
   "cell_type": "markdown",
   "id": "5f644e43",
   "metadata": {},
   "source": [
    "__Q9. Describe the difference between descriptive and inferential statistics. Give an example of each\n",
    "type of statistics and explain how they are used.?__\n",
    "\n",
    "__Ans)__ Descriptive and inferential statistics are two broad categories of statistical analysis that are used to summarize and analyze data.\n",
    "\n",
    "* __Descriptive statistics involve the use of numerical measures and graphical tools to summarize and describe the characteristics of a dataset.__ The goal of descriptive statistics is to provide a clear and concise summary of the data that can be easily understood by others. Examples of descriptive statistics include measures of central tendency such as the mean, median, and mode, measures of variability such as the range and standard deviation, and graphical tools such as histograms and scatter plots. Descriptive statistics are often used to provide a summary of data for research or reporting purposes.\n",
    "\n",
    "* __Inferential statistics, on the other hand, involve the use of statistical methods to make inferences or predictions about a larger population based on a sample of data.__ The goal of inferential statistics is to use the characteristics of a sample to make generalizations about the larger population. Examples of inferential statistics include hypothesis testing, confidence intervals, and regression analysis. Inferential statistics are often used in research to test hypotheses and make predictions about populations based on a sample.\n",
    "\n",
    "For example, consider a researcher who is interested in the effect of a new medication on blood pressure. The researcher collects data on a sample of patients who have been taking the medication for a certain period of time. Descriptive statistics can be used to summarize the characteristics of the sample, such as the mean and standard deviation of blood pressure readings. Inferential statistics can be used to test whether the medication has a significant effect on blood pressure in the larger population, using hypothesis testing and confidence intervals.\n",
    "\n",
    "__In summary, descriptive statistics are used to summarize and describe a dataset, while inferential statistics are used to make inferences or predictions about a larger population based on a sample of data.__"
   ]
  },
  {
   "cell_type": "markdown",
   "id": "d8bd7973",
   "metadata": {},
   "source": [
    "__Q10. What are some common measures of central tendency and variability used in statistics? Explain\n",
    "how each measure can be used to describe a dataset.?__\n",
    "\n",
    "__Ans)__ Common measures of central tendency __include mean, median, and mode, while common measures of variability include range, variance, and standard deviation.__ These measures are used to summarize and describe a dataset. The mean is useful for normally distributed data, the median is useful for skewed data, and the mode is useful for categorical or discrete data. The range indicates the spread of the data, while the variance and standard deviation indicate how much the data values deviate from the mean. The choice of which measure to use depends on the type and distribution of the data and the research question or objective."
   ]
  },
  {
   "cell_type": "markdown",
   "id": "3bc65c37",
   "metadata": {},
   "source": [
    "-------------------------------------------------------------------------------------------- __End__----------------------------------------------------------------------------------------------------------------"
   ]
  }
 ],
 "metadata": {
  "kernelspec": {
   "display_name": "Python 3 (ipykernel)",
   "language": "python",
   "name": "python3"
  },
  "language_info": {
   "codemirror_mode": {
    "name": "ipython",
    "version": 3
   },
   "file_extension": ".py",
   "mimetype": "text/x-python",
   "name": "python",
   "nbconvert_exporter": "python",
   "pygments_lexer": "ipython3",
   "version": "3.9.12"
  },
  "varInspector": {
   "cols": {
    "lenName": 16,
    "lenType": 16,
    "lenVar": 40
   },
   "kernels_config": {
    "python": {
     "delete_cmd_postfix": "",
     "delete_cmd_prefix": "del ",
     "library": "var_list.py",
     "varRefreshCmd": "print(var_dic_list())"
    },
    "r": {
     "delete_cmd_postfix": ") ",
     "delete_cmd_prefix": "rm(",
     "library": "var_list.r",
     "varRefreshCmd": "cat(var_dic_list()) "
    }
   },
   "types_to_exclude": [
    "module",
    "function",
    "builtin_function_or_method",
    "instance",
    "_Feature"
   ],
   "window_display": false
  }
 },
 "nbformat": 4,
 "nbformat_minor": 5
}
